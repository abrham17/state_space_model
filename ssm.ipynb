{
  "nbformat": 4,
  "nbformat_minor": 0,
  "metadata": {
    "colab": {
      "provenance": [],
      "gpuType": "V28",
      "authorship_tag": "ABX9TyPAi7qD/iy+YoGmVwLo7uJx",
      "include_colab_link": true
    },
    "kernelspec": {
      "name": "python3",
      "display_name": "Python 3"
    },
    "language_info": {
      "name": "python"
    },
    "accelerator": "TPU"
  },
  "cells": [
    {
      "cell_type": "markdown",
      "metadata": {
        "id": "view-in-github",
        "colab_type": "text"
      },
      "source": [
        "<a href=\"https://colab.research.google.com/github/abrham17/state_space_model/blob/main/ssm.ipynb\" target=\"_parent\"><img src=\"https://colab.research.google.com/assets/colab-badge.svg\" alt=\"Open In Colab\"/></a>"
      ]
    },
    {
      "cell_type": "code",
      "source": [
        "import kagglehub\n",
        "from sklearn.preprocessing import normalize\n",
        "path = kagglehub.dataset_download(\"sumanthvrao/daily-climate-time-series-data\")\n",
        "\n",
        "df = pd.read_csv('/kaggle/input/daily-climate-time-series-data/DailyDelhiClimateTest.csv').dropna()\n",
        "df_train = pd.read_csv('/kaggle/input/daily-climate-time-series-data/DailyDelhiClimateTrain.csv').dropna()\n",
        "\n",
        "features = ['meantemp', 'humidity', 'wind_speed', 'meanpressure']\n",
        "df[features] = normalize(df[features], norm='l2')\n",
        "df_train[features] = normalize(df_train[features], norm='l2')\n"
      ],
      "metadata": {
        "id": "KlWr2Ht5hQ6T"
      },
      "execution_count": null,
      "outputs": []
    },
    {
      "cell_type": "code",
      "execution_count": null,
      "metadata": {
        "id": "ba5qx_HUTS7k"
      },
      "outputs": [],
      "source": [
        "import pandas as pd\n",
        "import numpy as np\n",
        "import sklearn\n",
        "import torch\n",
        "from torch import nn\n",
        "from torch.utils.data import Dataset, DataLoader\n",
        "\n",
        "def create_sequences(data, input_len=30, pred_len=1):\n",
        "    X, y = [], []\n",
        "    for i in range(len(data) - input_len - pred_len):\n",
        "        X.append(data[i:i+input_len])\n",
        "        y.append(data[i+input_len:i+input_len+pred_len])\n",
        "    return np.array(X), np.array(y)\n",
        "\n",
        "X, y = create_sequences(df[features], input_len=30, pred_len=1)\n"
      ]
    },
    {
      "cell_type": "code",
      "source": [
        "class ClimateDataset(Dataset):\n",
        "    def __init__(self, X, y):\n",
        "        self.X = torch.tensor(X, dtype=torch.float32).unsqueeze(-1)\n",
        "        self.y = torch.tensor(y, dtype=torch.float32)\n",
        "    def __len__(self):\n",
        "        return len(self.X)\n",
        "    def __getitem__(self, idx):\n",
        "        return self.X[idx], self.y[idx]\n",
        "\n",
        "dataset = ClimateDataset(X, y)\n",
        "dataloader = DataLoader(dataset, batch_size=64, shuffle=True)\n"
      ],
      "metadata": {
        "colab": {
          "base_uri": "https://localhost:8080/",
          "height": 332
        },
        "id": "cTKyHzovho2J",
        "outputId": "bf8e4b24-4251-46ef-fa53-5febadbbb5b0"
      },
      "execution_count": null,
      "outputs": [
        {
          "output_type": "error",
          "ename": "TypeError",
          "evalue": "can't convert np.ndarray of type numpy.object_. The only supported types are: float64, float32, float16, complex64, complex128, int64, int32, int16, int8, uint64, uint32, uint16, uint8, and bool.",
          "traceback": [
            "\u001b[0;31m---------------------------------------------------------------------------\u001b[0m",
            "\u001b[0;31mTypeError\u001b[0m                                 Traceback (most recent call last)",
            "\u001b[0;32m<ipython-input-25-cb2a7a2fd53f>\u001b[0m in \u001b[0;36m<cell line: 0>\u001b[0;34m()\u001b[0m\n\u001b[1;32m      8\u001b[0m         \u001b[0;32mreturn\u001b[0m \u001b[0mself\u001b[0m\u001b[0;34m.\u001b[0m\u001b[0mX\u001b[0m\u001b[0;34m[\u001b[0m\u001b[0midx\u001b[0m\u001b[0;34m]\u001b[0m\u001b[0;34m,\u001b[0m \u001b[0mself\u001b[0m\u001b[0;34m.\u001b[0m\u001b[0my\u001b[0m\u001b[0;34m[\u001b[0m\u001b[0midx\u001b[0m\u001b[0;34m]\u001b[0m\u001b[0;34m\u001b[0m\u001b[0;34m\u001b[0m\u001b[0m\n\u001b[1;32m      9\u001b[0m \u001b[0;34m\u001b[0m\u001b[0m\n\u001b[0;32m---> 10\u001b[0;31m \u001b[0mdataset\u001b[0m \u001b[0;34m=\u001b[0m \u001b[0mClimateDataset\u001b[0m\u001b[0;34m(\u001b[0m\u001b[0mX\u001b[0m\u001b[0;34m,\u001b[0m \u001b[0my\u001b[0m\u001b[0;34m)\u001b[0m\u001b[0;34m\u001b[0m\u001b[0;34m\u001b[0m\u001b[0m\n\u001b[0m\u001b[1;32m     11\u001b[0m \u001b[0mdataloader\u001b[0m \u001b[0;34m=\u001b[0m \u001b[0mDataLoader\u001b[0m\u001b[0;34m(\u001b[0m\u001b[0mdataset\u001b[0m\u001b[0;34m,\u001b[0m \u001b[0mbatch_size\u001b[0m\u001b[0;34m=\u001b[0m\u001b[0;36m64\u001b[0m\u001b[0;34m,\u001b[0m \u001b[0mshuffle\u001b[0m\u001b[0;34m=\u001b[0m\u001b[0;32mTrue\u001b[0m\u001b[0;34m)\u001b[0m\u001b[0;34m\u001b[0m\u001b[0;34m\u001b[0m\u001b[0m\n",
            "\u001b[0;32m<ipython-input-25-cb2a7a2fd53f>\u001b[0m in \u001b[0;36m__init__\u001b[0;34m(self, X, y)\u001b[0m\n\u001b[1;32m      1\u001b[0m \u001b[0;32mclass\u001b[0m \u001b[0mClimateDataset\u001b[0m\u001b[0;34m(\u001b[0m\u001b[0mDataset\u001b[0m\u001b[0;34m)\u001b[0m\u001b[0;34m:\u001b[0m\u001b[0;34m\u001b[0m\u001b[0;34m\u001b[0m\u001b[0m\n\u001b[1;32m      2\u001b[0m     \u001b[0;32mdef\u001b[0m \u001b[0m__init__\u001b[0m\u001b[0;34m(\u001b[0m\u001b[0mself\u001b[0m\u001b[0;34m,\u001b[0m \u001b[0mX\u001b[0m\u001b[0;34m,\u001b[0m \u001b[0my\u001b[0m\u001b[0;34m)\u001b[0m\u001b[0;34m:\u001b[0m\u001b[0;34m\u001b[0m\u001b[0;34m\u001b[0m\u001b[0m\n\u001b[0;32m----> 3\u001b[0;31m         \u001b[0mself\u001b[0m\u001b[0;34m.\u001b[0m\u001b[0mX\u001b[0m \u001b[0;34m=\u001b[0m \u001b[0mtorch\u001b[0m\u001b[0;34m.\u001b[0m\u001b[0mtensor\u001b[0m\u001b[0;34m(\u001b[0m\u001b[0mX\u001b[0m\u001b[0;34m,\u001b[0m \u001b[0mdtype\u001b[0m\u001b[0;34m=\u001b[0m\u001b[0mtorch\u001b[0m\u001b[0;34m.\u001b[0m\u001b[0mfloat32\u001b[0m\u001b[0;34m)\u001b[0m\u001b[0;34m.\u001b[0m\u001b[0munsqueeze\u001b[0m\u001b[0;34m(\u001b[0m\u001b[0;34m-\u001b[0m\u001b[0;36m1\u001b[0m\u001b[0;34m)\u001b[0m\u001b[0;34m\u001b[0m\u001b[0;34m\u001b[0m\u001b[0m\n\u001b[0m\u001b[1;32m      4\u001b[0m         \u001b[0mself\u001b[0m\u001b[0;34m.\u001b[0m\u001b[0my\u001b[0m \u001b[0;34m=\u001b[0m \u001b[0mtorch\u001b[0m\u001b[0;34m.\u001b[0m\u001b[0mtensor\u001b[0m\u001b[0;34m(\u001b[0m\u001b[0my\u001b[0m\u001b[0;34m,\u001b[0m \u001b[0mdtype\u001b[0m\u001b[0;34m=\u001b[0m\u001b[0mtorch\u001b[0m\u001b[0;34m.\u001b[0m\u001b[0mfloat32\u001b[0m\u001b[0;34m)\u001b[0m\u001b[0;34m\u001b[0m\u001b[0;34m\u001b[0m\u001b[0m\n\u001b[1;32m      5\u001b[0m     \u001b[0;32mdef\u001b[0m \u001b[0m__len__\u001b[0m\u001b[0;34m(\u001b[0m\u001b[0mself\u001b[0m\u001b[0;34m)\u001b[0m\u001b[0;34m:\u001b[0m\u001b[0;34m\u001b[0m\u001b[0;34m\u001b[0m\u001b[0m\n",
            "\u001b[0;31mTypeError\u001b[0m: can't convert np.ndarray of type numpy.object_. The only supported types are: float64, float32, float16, complex64, complex128, int64, int32, int16, int8, uint64, uint32, uint16, uint8, and bool."
          ]
        }
      ]
    },
    {
      "cell_type": "code",
      "source": [
        "import torch.nn as nn\n",
        "\n",
        "class LSTMForecast(nn.Module):\n",
        "    def __init__(self, input_dim=1, hidden_dim=64, output_dim=1):\n",
        "        super().__init__()\n",
        "        self.lstm = nn.LSTM(input_dim, hidden_dim, batch_first=True)\n",
        "        self.fc = nn.Linear(hidden_dim, output_dim)\n",
        "    def forward(self, x):\n",
        "        out, _ = self.lstm(x)\n",
        "        out = self.fc(out[:, -1, :])  # take last output\n",
        "        return out\n"
      ],
      "metadata": {
        "id": "5qu-AXcJhqbk"
      },
      "execution_count": null,
      "outputs": []
    },
    {
      "cell_type": "code",
      "source": [
        "class SimpleSSM(nn.Module):\n",
        "    def __init__(self, input_dim=1, state_dim=64, output_dim=1):\n",
        "        super().__init__()\n",
        "        self.A = nn.Parameter(torch.randn(state_dim, state_dim) * 0.01)\n",
        "        self.B = nn.Parameter(torch.randn(state_dim, input_dim) * 0.01)\n",
        "        self.C = nn.Parameter(torch.randn(output_dim, state_dim) * 0.01)\n",
        "        self.state = None\n",
        "\n",
        "    def forward(self, x):\n",
        "        Bx = torch.einsum('btd,sd->bts', x, self.B)  # input -> state\n",
        "        batch_size, seq_len, _ = Bx.shape\n",
        "        h = torch.zeros((batch_size, self.A.size(0)), device=x.device)\n",
        "        for t in range(seq_len):\n",
        "            h = torch.matmul(h, self.A) + Bx[:, t, :]\n",
        "        y = torch.matmul(h, self.C.t())\n",
        "        return y\n"
      ],
      "metadata": {
        "id": "6A6WAcPNhxCS"
      },
      "execution_count": null,
      "outputs": []
    },
    {
      "cell_type": "code",
      "source": [
        "def train_model(model, dataloader, epochs=20, lr=1e-3):\n",
        "    model.train()\n",
        "    optimizer = torch.optim.Adam(model.parameters(), lr=lr)\n",
        "    criterion = nn.MSELoss()\n",
        "    for epoch in range(epochs):\n",
        "        total_loss = 0\n",
        "        for x_batch, y_batch in dataloader:\n",
        "            optimizer.zero_grad()\n",
        "            y_pred = model(x_batch)\n",
        "            loss = criterion(y_pred, y_batch)\n",
        "            loss.backward()\n",
        "            optimizer.step()\n",
        "            total_loss += loss.item()\n",
        "        print(f\"Epoch {epoch+1}: Loss={total_loss / len(dataloader):.4f}\")\n"
      ],
      "metadata": {
        "id": "DX2gWji6h0Ud"
      },
      "execution_count": null,
      "outputs": []
    },
    {
      "cell_type": "code",
      "source": [
        "def evaluate_model(model, X, y_true):\n",
        "    model.eval()\n",
        "    with torch.no_grad():\n",
        "        X_tensor = torch.tensor(X, dtype=torch.float32).unsqueeze(-1)\n",
        "        preds = model(X_tensor).squeeze().numpy()\n",
        "    y_true = y_true.squeeze()\n",
        "    preds = scaler.inverse_transform(preds.reshape(-1, 1)).flatten()\n",
        "    y_true = scaler.inverse_transform(y_true.reshape(-1, 1)).flatten()\n",
        "\n",
        "    # Convert to PyTorch tensors\n",
        "    y_true_tensor = torch.tensor(y_true, dtype=torch.float32)\n",
        "    preds_tensor = torch.tensor(preds, dtype=torch.float32)\n",
        "\n",
        "    # Create an instance of MSELoss and calculate the loss\n",
        "    criterion = nn.MSELoss()\n",
        "    mse = criterion(preds_tensor, y_true_tensor)\n",
        "\n",
        "\n",
        "    rmse = np.sqrt(mse.item()) # get the value from the tensor\n",
        "    mae = sklearn.metrics.mean_absolute_error(y_true, preds)\n",
        "    r2 = sklearn.metrics.r2_score(y_true, preds)\n",
        "\n",
        "    print(f\"RMSE: {rmse:.3f}, MAE: {mae:.3f}, R²: {r2:.3f}\")\n",
        "    return preds"
      ],
      "metadata": {
        "id": "rCWUfrneh3rd"
      },
      "execution_count": null,
      "outputs": []
    },
    {
      "cell_type": "code",
      "source": [
        "# Train LSTM\n",
        "lstm_model = LSTMForecast()\n",
        "train_model(lstm_model, dataloader)\n",
        "print(\"\\nLSTM Evaluation:\")\n",
        "evaluate_model(lstm_model, X, y)\n",
        "\n",
        "# Train SSM\n",
        "ssm_model = SimpleSSM()\n",
        "train_model(ssm_model, dataloader)\n",
        "print(\"\\nSSM Evaluation:\")\n",
        "evaluate_model(ssm_model, X, y)\n"
      ],
      "metadata": {
        "colab": {
          "base_uri": "https://localhost:8080/"
        },
        "id": "Dy09DTgIh3Wn",
        "outputId": "e008c575-1adb-4874-e237-861e6f100af4"
      },
      "execution_count": null,
      "outputs": [
        {
          "output_type": "stream",
          "name": "stdout",
          "text": [
            "Epoch 1: Loss=0.2436\n",
            "Epoch 2: Loss=0.0333\n",
            "Epoch 3: Loss=0.0218\n",
            "Epoch 4: Loss=0.0136\n",
            "Epoch 5: Loss=0.0064\n",
            "Epoch 6: Loss=0.0056\n",
            "Epoch 7: Loss=0.0052\n",
            "Epoch 8: Loss=0.0052\n",
            "Epoch 9: Loss=0.0050\n",
            "Epoch 10: Loss=0.0049\n",
            "Epoch 11: Loss=0.0046\n",
            "Epoch 12: Loss=0.0047\n",
            "Epoch 13: Loss=0.0046\n",
            "Epoch 14: Loss=0.0043\n",
            "Epoch 15: Loss=0.0042\n",
            "Epoch 16: Loss=0.0042\n",
            "Epoch 17: Loss=0.0041\n",
            "Epoch 18: Loss=0.0040\n",
            "Epoch 19: Loss=0.0040\n",
            "Epoch 20: Loss=0.0039\n",
            "\n",
            "LSTM Evaluation:\n",
            "RMSE: 2.044, MAE: 1.605, R²: 0.918\n",
            "Epoch 1: Loss=0.3414\n",
            "Epoch 2: Loss=0.0603\n",
            "Epoch 3: Loss=0.0098\n",
            "Epoch 4: Loss=0.0063\n",
            "Epoch 5: Loss=0.0060\n",
            "Epoch 6: Loss=0.0060\n",
            "Epoch 7: Loss=0.0067\n",
            "Epoch 8: Loss=0.0060\n",
            "Epoch 9: Loss=0.0059\n",
            "Epoch 10: Loss=0.0060\n",
            "Epoch 11: Loss=0.0056\n",
            "Epoch 12: Loss=0.0058\n",
            "Epoch 13: Loss=0.0055\n",
            "Epoch 14: Loss=0.0054\n",
            "Epoch 15: Loss=0.0053\n",
            "Epoch 16: Loss=0.0053\n",
            "Epoch 17: Loss=0.0052\n",
            "Epoch 18: Loss=0.0050\n",
            "Epoch 19: Loss=0.0050\n",
            "Epoch 20: Loss=0.0050\n",
            "\n",
            "SSM Evaluation:\n",
            "RMSE: 2.263, MAE: 1.806, R²: 0.899\n"
          ]
        },
        {
          "output_type": "execute_result",
          "data": {
            "text/plain": [
              "array([13.136942, 13.472925, 13.77204 , ..., 17.380085, 17.150118,\n",
              "       16.826471], dtype=float32)"
            ]
          },
          "metadata": {},
          "execution_count": 22
        }
      ]
    }
  ]
}